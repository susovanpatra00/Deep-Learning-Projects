{
 "cells": [
  {
   "cell_type": "code",
   "execution_count": 1,
   "id": "7c87d793-a49f-4eac-b9c5-c0af68250b3f",
   "metadata": {},
   "outputs": [
    {
     "name": "stdout",
     "output_type": "stream",
     "text": [
      "2.16.1\n"
     ]
    }
   ],
   "source": [
    "import tensorflow as tf\n",
    "print(tf.__version__)"
   ]
  },
  {
   "cell_type": "markdown",
   "id": "e135cfed-ae7d-4c60-9278-a4cf137a16ff",
   "metadata": {},
   "source": [
    "##  Import Basic Libraries"
   ]
  },
  {
   "cell_type": "code",
   "execution_count": 2,
   "id": "3f7abb22-e1ef-4bd6-b027-2ca5654d1c16",
   "metadata": {},
   "outputs": [],
   "source": [
    "import numpy as np\n",
    "import pandas as pd\n",
    "import matplotlib.pyplot as plt"
   ]
  },
  {
   "cell_type": "code",
   "execution_count": 3,
   "id": "01a50670-bce8-43b3-89b2-a7a211d97904",
   "metadata": {},
   "outputs": [
    {
     "data": {
      "text/html": [
       "<div>\n",
       "<style scoped>\n",
       "    .dataframe tbody tr th:only-of-type {\n",
       "        vertical-align: middle;\n",
       "    }\n",
       "\n",
       "    .dataframe tbody tr th {\n",
       "        vertical-align: top;\n",
       "    }\n",
       "\n",
       "    .dataframe thead th {\n",
       "        text-align: right;\n",
       "    }\n",
       "</style>\n",
       "<table border=\"1\" class=\"dataframe\">\n",
       "  <thead>\n",
       "    <tr style=\"text-align: right;\">\n",
       "      <th></th>\n",
       "      <th>RowNumber</th>\n",
       "      <th>CustomerId</th>\n",
       "      <th>Surname</th>\n",
       "      <th>CreditScore</th>\n",
       "      <th>Geography</th>\n",
       "      <th>Gender</th>\n",
       "      <th>Age</th>\n",
       "      <th>Tenure</th>\n",
       "      <th>Balance</th>\n",
       "      <th>NumOfProducts</th>\n",
       "      <th>HasCrCard</th>\n",
       "      <th>IsActiveMember</th>\n",
       "      <th>EstimatedSalary</th>\n",
       "      <th>Exited</th>\n",
       "    </tr>\n",
       "  </thead>\n",
       "  <tbody>\n",
       "    <tr>\n",
       "      <th>0</th>\n",
       "      <td>1</td>\n",
       "      <td>15634602</td>\n",
       "      <td>Hargrave</td>\n",
       "      <td>619</td>\n",
       "      <td>France</td>\n",
       "      <td>Female</td>\n",
       "      <td>42</td>\n",
       "      <td>2</td>\n",
       "      <td>0.00</td>\n",
       "      <td>1</td>\n",
       "      <td>1</td>\n",
       "      <td>1</td>\n",
       "      <td>101348.88</td>\n",
       "      <td>1</td>\n",
       "    </tr>\n",
       "    <tr>\n",
       "      <th>1</th>\n",
       "      <td>2</td>\n",
       "      <td>15647311</td>\n",
       "      <td>Hill</td>\n",
       "      <td>608</td>\n",
       "      <td>Spain</td>\n",
       "      <td>Female</td>\n",
       "      <td>41</td>\n",
       "      <td>1</td>\n",
       "      <td>83807.86</td>\n",
       "      <td>1</td>\n",
       "      <td>0</td>\n",
       "      <td>1</td>\n",
       "      <td>112542.58</td>\n",
       "      <td>0</td>\n",
       "    </tr>\n",
       "    <tr>\n",
       "      <th>2</th>\n",
       "      <td>3</td>\n",
       "      <td>15619304</td>\n",
       "      <td>Onio</td>\n",
       "      <td>502</td>\n",
       "      <td>France</td>\n",
       "      <td>Female</td>\n",
       "      <td>42</td>\n",
       "      <td>8</td>\n",
       "      <td>159660.80</td>\n",
       "      <td>3</td>\n",
       "      <td>1</td>\n",
       "      <td>0</td>\n",
       "      <td>113931.57</td>\n",
       "      <td>1</td>\n",
       "    </tr>\n",
       "    <tr>\n",
       "      <th>3</th>\n",
       "      <td>4</td>\n",
       "      <td>15701354</td>\n",
       "      <td>Boni</td>\n",
       "      <td>699</td>\n",
       "      <td>France</td>\n",
       "      <td>Female</td>\n",
       "      <td>39</td>\n",
       "      <td>1</td>\n",
       "      <td>0.00</td>\n",
       "      <td>2</td>\n",
       "      <td>0</td>\n",
       "      <td>0</td>\n",
       "      <td>93826.63</td>\n",
       "      <td>0</td>\n",
       "    </tr>\n",
       "    <tr>\n",
       "      <th>4</th>\n",
       "      <td>5</td>\n",
       "      <td>15737888</td>\n",
       "      <td>Mitchell</td>\n",
       "      <td>850</td>\n",
       "      <td>Spain</td>\n",
       "      <td>Female</td>\n",
       "      <td>43</td>\n",
       "      <td>2</td>\n",
       "      <td>125510.82</td>\n",
       "      <td>1</td>\n",
       "      <td>1</td>\n",
       "      <td>1</td>\n",
       "      <td>79084.10</td>\n",
       "      <td>0</td>\n",
       "    </tr>\n",
       "  </tbody>\n",
       "</table>\n",
       "</div>"
      ],
      "text/plain": [
       "   RowNumber  CustomerId   Surname  CreditScore Geography  Gender  Age  \\\n",
       "0          1    15634602  Hargrave          619    France  Female   42   \n",
       "1          2    15647311      Hill          608     Spain  Female   41   \n",
       "2          3    15619304      Onio          502    France  Female   42   \n",
       "3          4    15701354      Boni          699    France  Female   39   \n",
       "4          5    15737888  Mitchell          850     Spain  Female   43   \n",
       "\n",
       "   Tenure    Balance  NumOfProducts  HasCrCard  IsActiveMember  \\\n",
       "0       2       0.00              1          1               1   \n",
       "1       1   83807.86              1          0               1   \n",
       "2       8  159660.80              3          1               0   \n",
       "3       1       0.00              2          0               0   \n",
       "4       2  125510.82              1          1               1   \n",
       "\n",
       "   EstimatedSalary  Exited  \n",
       "0        101348.88       1  \n",
       "1        112542.58       0  \n",
       "2        113931.57       1  \n",
       "3         93826.63       0  \n",
       "4         79084.10       0  "
      ]
     },
     "execution_count": 3,
     "metadata": {},
     "output_type": "execute_result"
    }
   ],
   "source": [
    "dataset = pd.read_csv('Churn_Modelling.csv')\n",
    "dataset.head(5)"
   ]
  },
  {
   "cell_type": "markdown",
   "id": "7ed8fd8a-11c1-4bbc-a1c0-16f1b4c5dbd7",
   "metadata": {},
   "source": [
    "## Divide the dataset into Independent and Dependent Features"
   ]
  },
  {
   "cell_type": "code",
   "execution_count": 4,
   "id": "ac3d1908-bbaa-4b2d-85f0-5ccbe47ed002",
   "metadata": {},
   "outputs": [],
   "source": [
    "# Here the columns RowNumber, CustomerID, Surname are actually useless features they can't help in predicting so we will leave that\n",
    "# 'Exited' - Dependent Feature\n",
    "\n",
    "X = dataset.iloc[:,3:13]\n",
    "y = dataset.iloc[:, 13]"
   ]
  },
  {
   "cell_type": "markdown",
   "id": "1c9f8a79-eb00-4a04-a97c-a39ca54edb3f",
   "metadata": {},
   "source": [
    "## Feature Engineering"
   ]
  },
  {
   "cell_type": "code",
   "execution_count": 5,
   "id": "c0e415dd-6b84-4832-a541-778da9411400",
   "metadata": {},
   "outputs": [],
   "source": [
    "# As 'Geography' is a categorical data so we need to convert it to like something as ome hot encoding\n",
    "# Similarly 'Gender' is also a categorical data so we need to convert it to like something as one hot encoding\n",
    "# All other columns or features are of numerical value\n",
    "\n",
    "geography = pd.get_dummies(X['Geography'], drop_first = True)\n",
    "gender = pd.get_dummies(X['Gender'], drop_first = True)\n",
    "\n",
    "# Setting drop_first=True will remove the first level (category) of each categorical variable, leaving only N-1 binary \n",
    "#      columns. \n",
    "# This can help mitigate multicollinearity issues. So if both are 0 then it will signify that it's the category which \n",
    "#      was dropped.\n",
    "# Lets understand this with an example -- if there are three kind in 'Geography' named 'France' , 'Russia' & 'India\n",
    "# Now if we would have done normal one hot encoding or kept \" drop_first = False \" then we would have three columns.\n",
    "# But now what it will do is it will have only 2 columns 'Russia' & 'India' ,,,and when both of them will be '0', it \n",
    "#     will represent 'France'."
   ]
  },
  {
   "cell_type": "markdown",
   "id": "8e7bb9f5-180b-4d3e-b469-76502a6d8c8a",
   "metadata": {},
   "source": [
    "## Concatenate the new features"
   ]
  },
  {
   "cell_type": "code",
   "execution_count": 6,
   "id": "da3cd4a6-9b13-49a6-acd1-5da28ec79e5f",
   "metadata": {},
   "outputs": [],
   "source": [
    "# Now we need to add this new 'geography' and 'gender' column to the data and drop the pervious ones\n",
    "X = X.drop(['Geography','Gender'], axis = 1)\n",
    "# axis = 1 signifies that only delete the col,,,not the rows associated with it\n",
    "\n",
    "# concat them\n",
    "X = pd.concat([X, geography, gender], axis = 1)"
   ]
  },
  {
   "cell_type": "markdown",
   "id": "aab01689-6362-4a5d-a9af-d42f6efb4295",
   "metadata": {},
   "source": [
    "## Splitting the Data for Training and Testing"
   ]
  },
  {
   "cell_type": "code",
   "execution_count": 7,
   "id": "36869fca-9706-4bc5-a703-86703a747cc1",
   "metadata": {},
   "outputs": [],
   "source": [
    "from sklearn.model_selection import train_test_split\n",
    "\n",
    "X_train, X_test, y_train, y_test = train_test_split(X, y, test_size=0.2, random_state = 0)"
   ]
  },
  {
   "cell_type": "markdown",
   "id": "734fc5d3-30d4-448f-9b44-a5a8fd9a69ae",
   "metadata": {},
   "source": [
    "## Feature Scaling"
   ]
  },
  {
   "cell_type": "code",
   "execution_count": 8,
   "id": "e0d02ac4-73db-4cb1-a1b4-1928113d5f6a",
   "metadata": {},
   "outputs": [],
   "source": [
    "# StandardScaler - ANN\n",
    "# MinMaxScaler - CNN (Anything between 0 - 1)\n",
    "\n",
    "from sklearn.preprocessing import StandardScaler\n",
    "sc = StandardScaler()\n",
    "X_train = sc.fit_transform(X_train)\n",
    "X_test = sc.transform(X_test)\n",
    "\n",
    "\n",
    "# When you call fit_transform() on the training set, the scaler (or any other preprocessing transformer) computes the mean, \n",
    "# standard deviation, or any other parameters needed for the transformation using only the training data. The purpose is to ensure \n",
    "# that the scaler learns the characteristics of the training set without incorporating information from the test set. This is \n",
    "# important to prevent data leakage, where information from the test set inadvertently influences the model training.\n",
    "# After fitting the transformer on the training set, you want to apply the same transformation to both the training and test sets. \n",
    "# This is achieved using the transform() method. Applying the same transformation ensures that both sets are processed in a \n",
    "# consistent manner. For example, if you're standardizing features, you want to use the mean and standard deviation computed from \n",
    "# the training set for both the training and test sets. That's why we use sc.fit_transform() for training purpose and only \n",
    "# sc.transform() for test purpose as the parameters are already trained and mst be same as training one and \n",
    "# for \"data leakage and maintaining consistency in preprocessing\"."
   ]
  },
  {
   "cell_type": "code",
   "execution_count": 9,
   "id": "727ecab1-ac59-40b2-aefc-955ce16f3e61",
   "metadata": {},
   "outputs": [
    {
     "name": "stdout",
     "output_type": "stream",
     "text": [
      "Train set Shape :  (8000, 11)\n",
      "Test set Shape :  (2000, 11)\n"
     ]
    }
   ],
   "source": [
    "print(\"Train set Shape : \", X_train.shape)\n",
    "print(\"Test set Shape : \", X_test.shape)"
   ]
  },
  {
   "cell_type": "markdown",
   "id": "9e8b69f3-9b34-44db-ac63-8af71e5188fa",
   "metadata": {},
   "source": [
    "# Part 2 : Create the ANN"
   ]
  },
  {
   "cell_type": "code",
   "execution_count": 10,
   "id": "de491d0a-f02e-4dca-bf1b-afe140986e17",
   "metadata": {},
   "outputs": [],
   "source": [
    "from tensorflow.keras.models import Sequential\n",
    "from tensorflow.keras.layers import Dense\n",
    "from tensorflow.keras.layers import LeakyReLU, ELU, PReLU, ReLU\n",
    "from tensorflow.keras.layers import Dropout"
   ]
  },
  {
   "cell_type": "code",
   "execution_count": 11,
   "id": "222f90a9-ae04-4cfa-b33f-92ba7622b99e",
   "metadata": {},
   "outputs": [],
   "source": [
    "### Lets initialize the ANN\n",
    "\n",
    "classifier = Sequential()"
   ]
  },
  {
   "cell_type": "markdown",
   "id": "971273a2-3233-4896-885a-5f46bea80489",
   "metadata": {},
   "source": [
    "## Adding the Input Layer"
   ]
  },
  {
   "cell_type": "code",
   "execution_count": 12,
   "id": "3d242273-debf-4ac2-8ea8-e12a00ce5054",
   "metadata": {},
   "outputs": [],
   "source": [
    "# I need to add the inputs to the model classifier\n",
    "# from tensorflow.keras.layers import Dense\n",
    "# model.add(Dense(units, activation='relu', input_dim=input_dim))\n",
    "\n",
    "# Dense is the standard fully connected neural network layer. It means that each neuron in the current layer is connected \n",
    "#    to every neuron in the previous layer.\n",
    "\n",
    "# units: Number of neurons in the layer.\n",
    "#        So it will be 11 as we have 11 independent features in our dataset.\n",
    "# activation: Activation function applied to the output. \n",
    "#             We saw for Binary Classification problem 'ReLU' is best in hidden layer and 'Sigmoid' in Output Layer\n",
    "\n",
    "classifier.add(Dense(units = 11, activation = 'relu'))"
   ]
  },
  {
   "cell_type": "markdown",
   "id": "c1578327-6b88-408a-8423-532f7d32486a",
   "metadata": {},
   "source": [
    "## Adding the First Hideen Layer"
   ]
  },
  {
   "cell_type": "code",
   "execution_count": 13,
   "id": "db6094c7-cb26-4769-aac5-74c4a950da6c",
   "metadata": {},
   "outputs": [],
   "source": [
    "classifier.add(Dense(units = 7, activation = 'relu'))\n",
    "classifier.add(Dropout(rate=0.3))\n",
    "\n",
    "# Here I have take units = 7,,,I have taken this arbitarily,,,no logic behind this"
   ]
  },
  {
   "cell_type": "markdown",
   "id": "270d78f5-84af-4237-973f-7a11b29af044",
   "metadata": {},
   "source": [
    "## Adding the Second Hideen Layer"
   ]
  },
  {
   "cell_type": "code",
   "execution_count": 14,
   "id": "1edda949-db10-4b14-a90f-3734a5e56555",
   "metadata": {},
   "outputs": [],
   "source": [
    "# There are techniques to find how many hideen layers we should use,, later on\n",
    "classifier.add(Dense(units = 6, activation = 'relu'))"
   ]
  },
  {
   "cell_type": "markdown",
   "id": "fdc428fd-e057-480e-bc86-dc743979f17c",
   "metadata": {},
   "source": [
    "## Adding the Output Layer"
   ]
  },
  {
   "cell_type": "code",
   "execution_count": 15,
   "id": "2b239cbc-bd86-4bae-84aa-398c6a5d08a2",
   "metadata": {},
   "outputs": [],
   "source": [
    "# It is a Binary Classification problem so the activation function must be sigmoid and units = 1\n",
    "classifier.add(Dense(units = 1, activation = 'sigmoid'))"
   ]
  },
  {
   "cell_type": "code",
   "execution_count": 16,
   "id": "9ef6c26e-d3b5-421f-ae2a-ea6c380861e2",
   "metadata": {},
   "outputs": [],
   "source": [
    "classifier.compile(optimizer='adam', loss='binary_crossentropy', metrics=['accuracy'])\n",
    "\n",
    "# Here the adam optimizer takes learning rate as 0.01 by default,, if we want to provie our own learning rate then --\n",
    "# from tensorflow.keras.optimizers import Adam\n",
    "# classifier.compile(optimizer='adam'(learning_rate=0.001), loss='binary_crossentropy', metrics=['accuracy'])"
   ]
  },
  {
   "cell_type": "code",
   "execution_count": 17,
   "id": "c4d9d435-104f-4b7a-8536-66b9b1fa13d6",
   "metadata": {},
   "outputs": [],
   "source": [
    "# model_history = classifier.fit(X_train, y_train, validation_split = 0.33, batch_size = 10, epochs = 1000)"
   ]
  },
  {
   "cell_type": "code",
   "execution_count": 18,
   "id": "335f6192-5372-43c6-8d16-93957c891a5f",
   "metadata": {},
   "outputs": [],
   "source": [
    "# It shows that epoch = 1000 but in each epoch it is running for 536 times,, how?? \n",
    "# 8000 training data points,, validation = 33% means only 67% for training purpose,,, then (8000 * 67)/100 = 5360\n",
    "# Now the batch size is 10 so 5360/10 = 536"
   ]
  },
  {
   "cell_type": "code",
   "execution_count": 19,
   "id": "0163f5cf-00dd-4254-baa8-cad739c0c828",
   "metadata": {},
   "outputs": [],
   "source": [
    "# Why Early Stopping ??\n",
    "#     If we run the above fit line then we can see that after aroun 80-90 epochs the accuracy is not at all increasing, it\n",
    "#     has become constant or we can say that it has reached the best result and now it won't increase further. But the \n",
    "#     problem is that still it will run for 1000 epochs which is a huge waste of time. So that is why we need \n",
    "#     Early Stopping,,when the accuracy will not increase it become constant it will stop the Iteration.\n",
    "\n",
    "\n",
    "import tensorflow as tf\n",
    "early_stopping = tf.keras.callbacks.EarlyStopping(\n",
    "    monitor=\"val_loss\",\n",
    "    min_delta=0.0001,\n",
    "    patience=20,\n",
    "    verbose=1,\n",
    "    mode=\"auto\",\n",
    "    baseline=None,\n",
    "    restore_best_weights=False,\n",
    "    start_from_epoch=0,\n",
    ")"
   ]
  },
  {
   "cell_type": "code",
   "execution_count": 20,
   "id": "8400a951-ce46-43a0-ba9d-2242c0dc369a",
   "metadata": {},
   "outputs": [
    {
     "name": "stdout",
     "output_type": "stream",
     "text": [
      "Epoch 1/1000\n",
      "\u001b[1m536/536\u001b[0m \u001b[32m━━━━━━━━━━━━━━━━━━━━\u001b[0m\u001b[37m\u001b[0m \u001b[1m1s\u001b[0m 1ms/step - accuracy: 0.7974 - loss: 0.5317 - val_accuracy: 0.7955 - val_loss: 0.4810\n",
      "Epoch 2/1000\n",
      "\u001b[1m536/536\u001b[0m \u001b[32m━━━━━━━━━━━━━━━━━━━━\u001b[0m\u001b[37m\u001b[0m \u001b[1m0s\u001b[0m 655us/step - accuracy: 0.7880 - loss: 0.4809 - val_accuracy: 0.7955 - val_loss: 0.4528\n",
      "Epoch 3/1000\n",
      "\u001b[1m536/536\u001b[0m \u001b[32m━━━━━━━━━━━━━━━━━━━━\u001b[0m\u001b[37m\u001b[0m \u001b[1m0s\u001b[0m 657us/step - accuracy: 0.7936 - loss: 0.4631 - val_accuracy: 0.7955 - val_loss: 0.4440\n",
      "Epoch 4/1000\n",
      "\u001b[1m536/536\u001b[0m \u001b[32m━━━━━━━━━━━━━━━━━━━━\u001b[0m\u001b[37m\u001b[0m \u001b[1m0s\u001b[0m 653us/step - accuracy: 0.8001 - loss: 0.4273 - val_accuracy: 0.7955 - val_loss: 0.4386\n",
      "Epoch 5/1000\n",
      "\u001b[1m536/536\u001b[0m \u001b[32m━━━━━━━━━━━━━━━━━━━━\u001b[0m\u001b[37m\u001b[0m \u001b[1m0s\u001b[0m 649us/step - accuracy: 0.7909 - loss: 0.4352 - val_accuracy: 0.7955 - val_loss: 0.4356\n",
      "Epoch 6/1000\n",
      "\u001b[1m536/536\u001b[0m \u001b[32m━━━━━━━━━━━━━━━━━━━━\u001b[0m\u001b[37m\u001b[0m \u001b[1m0s\u001b[0m 699us/step - accuracy: 0.7920 - loss: 0.4253 - val_accuracy: 0.7955 - val_loss: 0.4395\n",
      "Epoch 7/1000\n",
      "\u001b[1m536/536\u001b[0m \u001b[32m━━━━━━━━━━━━━━━━━━━━\u001b[0m\u001b[37m\u001b[0m \u001b[1m0s\u001b[0m 652us/step - accuracy: 0.7900 - loss: 0.4378 - val_accuracy: 0.7955 - val_loss: 0.4343\n",
      "Epoch 8/1000\n",
      "\u001b[1m536/536\u001b[0m \u001b[32m━━━━━━━━━━━━━━━━━━━━\u001b[0m\u001b[37m\u001b[0m \u001b[1m0s\u001b[0m 633us/step - accuracy: 0.8037 - loss: 0.4153 - val_accuracy: 0.7955 - val_loss: 0.4354\n",
      "Epoch 9/1000\n",
      "\u001b[1m536/536\u001b[0m \u001b[32m━━━━━━━━━━━━━━━━━━━━\u001b[0m\u001b[37m\u001b[0m \u001b[1m0s\u001b[0m 630us/step - accuracy: 0.7967 - loss: 0.4213 - val_accuracy: 0.7955 - val_loss: 0.4189\n",
      "Epoch 10/1000\n",
      "\u001b[1m536/536\u001b[0m \u001b[32m━━━━━━━━━━━━━━━━━━━━\u001b[0m\u001b[37m\u001b[0m \u001b[1m0s\u001b[0m 633us/step - accuracy: 0.8089 - loss: 0.4139 - val_accuracy: 0.8232 - val_loss: 0.4131\n",
      "Epoch 11/1000\n",
      "\u001b[1m536/536\u001b[0m \u001b[32m━━━━━━━━━━━━━━━━━━━━\u001b[0m\u001b[37m\u001b[0m \u001b[1m0s\u001b[0m 650us/step - accuracy: 0.8381 - loss: 0.3891 - val_accuracy: 0.8262 - val_loss: 0.4085\n",
      "Epoch 12/1000\n",
      "\u001b[1m536/536\u001b[0m \u001b[32m━━━━━━━━━━━━━━━━━━━━\u001b[0m\u001b[37m\u001b[0m \u001b[1m0s\u001b[0m 791us/step - accuracy: 0.8265 - loss: 0.4054 - val_accuracy: 0.8330 - val_loss: 0.4053\n",
      "Epoch 13/1000\n",
      "\u001b[1m536/536\u001b[0m \u001b[32m━━━━━━━━━━━━━━━━━━━━\u001b[0m\u001b[37m\u001b[0m \u001b[1m0s\u001b[0m 722us/step - accuracy: 0.8257 - loss: 0.3988 - val_accuracy: 0.8292 - val_loss: 0.3987\n",
      "Epoch 14/1000\n",
      "\u001b[1m536/536\u001b[0m \u001b[32m━━━━━━━━━━━━━━━━━━━━\u001b[0m\u001b[37m\u001b[0m \u001b[1m0s\u001b[0m 682us/step - accuracy: 0.8311 - loss: 0.3844 - val_accuracy: 0.8360 - val_loss: 0.3990\n",
      "Epoch 15/1000\n",
      "\u001b[1m536/536\u001b[0m \u001b[32m━━━━━━━━━━━━━━━━━━━━\u001b[0m\u001b[37m\u001b[0m \u001b[1m0s\u001b[0m 757us/step - accuracy: 0.8388 - loss: 0.3758 - val_accuracy: 0.8398 - val_loss: 0.3963\n",
      "Epoch 16/1000\n",
      "\u001b[1m536/536\u001b[0m \u001b[32m━━━━━━━━━━━━━━━━━━━━\u001b[0m\u001b[37m\u001b[0m \u001b[1m0s\u001b[0m 696us/step - accuracy: 0.8266 - loss: 0.3873 - val_accuracy: 0.8410 - val_loss: 0.3870\n",
      "Epoch 17/1000\n",
      "\u001b[1m536/536\u001b[0m \u001b[32m━━━━━━━━━━━━━━━━━━━━\u001b[0m\u001b[37m\u001b[0m \u001b[1m0s\u001b[0m 737us/step - accuracy: 0.8305 - loss: 0.3750 - val_accuracy: 0.8429 - val_loss: 0.3886\n",
      "Epoch 18/1000\n",
      "\u001b[1m536/536\u001b[0m \u001b[32m━━━━━━━━━━━━━━━━━━━━\u001b[0m\u001b[37m\u001b[0m \u001b[1m0s\u001b[0m 795us/step - accuracy: 0.8258 - loss: 0.3840 - val_accuracy: 0.8402 - val_loss: 0.3943\n",
      "Epoch 19/1000\n",
      "\u001b[1m536/536\u001b[0m \u001b[32m━━━━━━━━━━━━━━━━━━━━\u001b[0m\u001b[37m\u001b[0m \u001b[1m0s\u001b[0m 733us/step - accuracy: 0.8360 - loss: 0.3783 - val_accuracy: 0.8425 - val_loss: 0.3896\n",
      "Epoch 20/1000\n",
      "\u001b[1m536/536\u001b[0m \u001b[32m━━━━━━━━━━━━━━━━━━━━\u001b[0m\u001b[37m\u001b[0m \u001b[1m0s\u001b[0m 688us/step - accuracy: 0.8410 - loss: 0.3784 - val_accuracy: 0.8478 - val_loss: 0.3828\n",
      "Epoch 21/1000\n",
      "\u001b[1m536/536\u001b[0m \u001b[32m━━━━━━━━━━━━━━━━━━━━\u001b[0m\u001b[37m\u001b[0m \u001b[1m0s\u001b[0m 699us/step - accuracy: 0.8421 - loss: 0.3753 - val_accuracy: 0.8436 - val_loss: 0.3875\n",
      "Epoch 22/1000\n",
      "\u001b[1m536/536\u001b[0m \u001b[32m━━━━━━━━━━━━━━━━━━━━\u001b[0m\u001b[37m\u001b[0m \u001b[1m0s\u001b[0m 682us/step - accuracy: 0.8447 - loss: 0.3716 - val_accuracy: 0.8372 - val_loss: 0.3969\n",
      "Epoch 23/1000\n",
      "\u001b[1m536/536\u001b[0m \u001b[32m━━━━━━━━━━━━━━━━━━━━\u001b[0m\u001b[37m\u001b[0m \u001b[1m0s\u001b[0m 688us/step - accuracy: 0.8529 - loss: 0.3678 - val_accuracy: 0.8482 - val_loss: 0.3878\n",
      "Epoch 24/1000\n",
      "\u001b[1m536/536\u001b[0m \u001b[32m━━━━━━━━━━━━━━━━━━━━\u001b[0m\u001b[37m\u001b[0m \u001b[1m0s\u001b[0m 717us/step - accuracy: 0.8486 - loss: 0.3733 - val_accuracy: 0.8440 - val_loss: 0.3879\n",
      "Epoch 25/1000\n",
      "\u001b[1m536/536\u001b[0m \u001b[32m━━━━━━━━━━━━━━━━━━━━\u001b[0m\u001b[37m\u001b[0m \u001b[1m0s\u001b[0m 647us/step - accuracy: 0.8512 - loss: 0.3607 - val_accuracy: 0.8459 - val_loss: 0.3951\n",
      "Epoch 26/1000\n",
      "\u001b[1m536/536\u001b[0m \u001b[32m━━━━━━━━━━━━━━━━━━━━\u001b[0m\u001b[37m\u001b[0m \u001b[1m0s\u001b[0m 636us/step - accuracy: 0.8543 - loss: 0.3553 - val_accuracy: 0.8482 - val_loss: 0.3811\n",
      "Epoch 27/1000\n",
      "\u001b[1m536/536\u001b[0m \u001b[32m━━━━━━━━━━━━━━━━━━━━\u001b[0m\u001b[37m\u001b[0m \u001b[1m0s\u001b[0m 653us/step - accuracy: 0.8585 - loss: 0.3608 - val_accuracy: 0.8519 - val_loss: 0.3809\n",
      "Epoch 28/1000\n",
      "\u001b[1m536/536\u001b[0m \u001b[32m━━━━━━━━━━━━━━━━━━━━\u001b[0m\u001b[37m\u001b[0m \u001b[1m0s\u001b[0m 652us/step - accuracy: 0.8602 - loss: 0.3533 - val_accuracy: 0.8516 - val_loss: 0.3806\n",
      "Epoch 29/1000\n",
      "\u001b[1m536/536\u001b[0m \u001b[32m━━━━━━━━━━━━━━━━━━━━\u001b[0m\u001b[37m\u001b[0m \u001b[1m0s\u001b[0m 684us/step - accuracy: 0.8537 - loss: 0.3596 - val_accuracy: 0.8516 - val_loss: 0.3824\n",
      "Epoch 30/1000\n",
      "\u001b[1m536/536\u001b[0m \u001b[32m━━━━━━━━━━━━━━━━━━━━\u001b[0m\u001b[37m\u001b[0m \u001b[1m0s\u001b[0m 660us/step - accuracy: 0.8596 - loss: 0.3573 - val_accuracy: 0.8512 - val_loss: 0.3800\n",
      "Epoch 31/1000\n",
      "\u001b[1m536/536\u001b[0m \u001b[32m━━━━━━━━━━━━━━━━━━━━\u001b[0m\u001b[37m\u001b[0m \u001b[1m0s\u001b[0m 686us/step - accuracy: 0.8646 - loss: 0.3589 - val_accuracy: 0.8493 - val_loss: 0.3811\n",
      "Epoch 32/1000\n",
      "\u001b[1m536/536\u001b[0m \u001b[32m━━━━━━━━━━━━━━━━━━━━\u001b[0m\u001b[37m\u001b[0m \u001b[1m0s\u001b[0m 687us/step - accuracy: 0.8627 - loss: 0.3440 - val_accuracy: 0.8501 - val_loss: 0.4007\n",
      "Epoch 33/1000\n",
      "\u001b[1m536/536\u001b[0m \u001b[32m━━━━━━━━━━━━━━━━━━━━\u001b[0m\u001b[37m\u001b[0m \u001b[1m0s\u001b[0m 703us/step - accuracy: 0.8572 - loss: 0.3569 - val_accuracy: 0.8470 - val_loss: 0.3886\n",
      "Epoch 34/1000\n",
      "\u001b[1m536/536\u001b[0m \u001b[32m━━━━━━━━━━━━━━━━━━━━\u001b[0m\u001b[37m\u001b[0m \u001b[1m0s\u001b[0m 651us/step - accuracy: 0.8598 - loss: 0.3435 - val_accuracy: 0.8489 - val_loss: 0.3849\n",
      "Epoch 35/1000\n",
      "\u001b[1m536/536\u001b[0m \u001b[32m━━━━━━━━━━━━━━━━━━━━\u001b[0m\u001b[37m\u001b[0m \u001b[1m0s\u001b[0m 686us/step - accuracy: 0.8556 - loss: 0.3526 - val_accuracy: 0.8531 - val_loss: 0.3771\n",
      "Epoch 36/1000\n",
      "\u001b[1m536/536\u001b[0m \u001b[32m━━━━━━━━━━━━━━━━━━━━\u001b[0m\u001b[37m\u001b[0m \u001b[1m0s\u001b[0m 681us/step - accuracy: 0.8671 - loss: 0.3522 - val_accuracy: 0.8508 - val_loss: 0.3715\n",
      "Epoch 37/1000\n",
      "\u001b[1m536/536\u001b[0m \u001b[32m━━━━━━━━━━━━━━━━━━━━\u001b[0m\u001b[37m\u001b[0m \u001b[1m0s\u001b[0m 762us/step - accuracy: 0.8542 - loss: 0.3573 - val_accuracy: 0.8516 - val_loss: 0.3785\n",
      "Epoch 38/1000\n",
      "\u001b[1m536/536\u001b[0m \u001b[32m━━━━━━━━━━━━━━━━━━━━\u001b[0m\u001b[37m\u001b[0m \u001b[1m0s\u001b[0m 720us/step - accuracy: 0.8635 - loss: 0.3529 - val_accuracy: 0.8523 - val_loss: 0.3787\n",
      "Epoch 39/1000\n",
      "\u001b[1m536/536\u001b[0m \u001b[32m━━━━━━━━━━━━━━━━━━━━\u001b[0m\u001b[37m\u001b[0m \u001b[1m0s\u001b[0m 737us/step - accuracy: 0.8604 - loss: 0.3472 - val_accuracy: 0.8482 - val_loss: 0.3906\n",
      "Epoch 40/1000\n",
      "\u001b[1m536/536\u001b[0m \u001b[32m━━━━━━━━━━━━━━━━━━━━\u001b[0m\u001b[37m\u001b[0m \u001b[1m0s\u001b[0m 795us/step - accuracy: 0.8578 - loss: 0.3490 - val_accuracy: 0.8501 - val_loss: 0.3804\n",
      "Epoch 41/1000\n",
      "\u001b[1m536/536\u001b[0m \u001b[32m━━━━━━━━━━━━━━━━━━━━\u001b[0m\u001b[37m\u001b[0m \u001b[1m0s\u001b[0m 738us/step - accuracy: 0.8607 - loss: 0.3552 - val_accuracy: 0.8508 - val_loss: 0.3795\n",
      "Epoch 42/1000\n",
      "\u001b[1m536/536\u001b[0m \u001b[32m━━━━━━━━━━━━━━━━━━━━\u001b[0m\u001b[37m\u001b[0m \u001b[1m0s\u001b[0m 739us/step - accuracy: 0.8647 - loss: 0.3522 - val_accuracy: 0.8527 - val_loss: 0.3874\n",
      "Epoch 43/1000\n",
      "\u001b[1m536/536\u001b[0m \u001b[32m━━━━━━━━━━━━━━━━━━━━\u001b[0m\u001b[37m\u001b[0m \u001b[1m0s\u001b[0m 732us/step - accuracy: 0.8648 - loss: 0.3469 - val_accuracy: 0.8474 - val_loss: 0.3870\n",
      "Epoch 44/1000\n",
      "\u001b[1m536/536\u001b[0m \u001b[32m━━━━━━━━━━━━━━━━━━━━\u001b[0m\u001b[37m\u001b[0m \u001b[1m1s\u001b[0m 946us/step - accuracy: 0.8664 - loss: 0.3380 - val_accuracy: 0.8508 - val_loss: 0.3747\n",
      "Epoch 45/1000\n",
      "\u001b[1m536/536\u001b[0m \u001b[32m━━━━━━━━━━━━━━━━━━━━\u001b[0m\u001b[37m\u001b[0m \u001b[1m0s\u001b[0m 696us/step - accuracy: 0.8676 - loss: 0.3420 - val_accuracy: 0.8504 - val_loss: 0.3789\n",
      "Epoch 46/1000\n",
      "\u001b[1m536/536\u001b[0m \u001b[32m━━━━━━━━━━━━━━━━━━━━\u001b[0m\u001b[37m\u001b[0m \u001b[1m0s\u001b[0m 729us/step - accuracy: 0.8630 - loss: 0.3452 - val_accuracy: 0.8474 - val_loss: 0.3925\n",
      "Epoch 47/1000\n",
      "\u001b[1m536/536\u001b[0m \u001b[32m━━━━━━━━━━━━━━━━━━━━\u001b[0m\u001b[37m\u001b[0m \u001b[1m0s\u001b[0m 696us/step - accuracy: 0.8670 - loss: 0.3339 - val_accuracy: 0.8508 - val_loss: 0.3870\n",
      "Epoch 48/1000\n",
      "\u001b[1m536/536\u001b[0m \u001b[32m━━━━━━━━━━━━━━━━━━━━\u001b[0m\u001b[37m\u001b[0m \u001b[1m0s\u001b[0m 687us/step - accuracy: 0.8624 - loss: 0.3461 - val_accuracy: 0.8519 - val_loss: 0.3769\n",
      "Epoch 49/1000\n",
      "\u001b[1m536/536\u001b[0m \u001b[32m━━━━━━━━━━━━━━━━━━━━\u001b[0m\u001b[37m\u001b[0m \u001b[1m0s\u001b[0m 730us/step - accuracy: 0.8519 - loss: 0.3575 - val_accuracy: 0.8554 - val_loss: 0.3783\n",
      "Epoch 50/1000\n",
      "\u001b[1m536/536\u001b[0m \u001b[32m━━━━━━━━━━━━━━━━━━━━\u001b[0m\u001b[37m\u001b[0m \u001b[1m0s\u001b[0m 666us/step - accuracy: 0.8618 - loss: 0.3433 - val_accuracy: 0.8527 - val_loss: 0.3786\n",
      "Epoch 51/1000\n",
      "\u001b[1m536/536\u001b[0m \u001b[32m━━━━━━━━━━━━━━━━━━━━\u001b[0m\u001b[37m\u001b[0m \u001b[1m0s\u001b[0m 707us/step - accuracy: 0.8584 - loss: 0.3599 - val_accuracy: 0.8535 - val_loss: 0.3817\n",
      "Epoch 52/1000\n",
      "\u001b[1m536/536\u001b[0m \u001b[32m━━━━━━━━━━━━━━━━━━━━\u001b[0m\u001b[37m\u001b[0m \u001b[1m0s\u001b[0m 731us/step - accuracy: 0.8603 - loss: 0.3475 - val_accuracy: 0.8531 - val_loss: 0.3765\n",
      "Epoch 53/1000\n",
      "\u001b[1m536/536\u001b[0m \u001b[32m━━━━━━━━━━━━━━━━━━━━\u001b[0m\u001b[37m\u001b[0m \u001b[1m0s\u001b[0m 695us/step - accuracy: 0.8658 - loss: 0.3339 - val_accuracy: 0.8474 - val_loss: 0.3891\n",
      "Epoch 54/1000\n",
      "\u001b[1m536/536\u001b[0m \u001b[32m━━━━━━━━━━━━━━━━━━━━\u001b[0m\u001b[37m\u001b[0m \u001b[1m0s\u001b[0m 708us/step - accuracy: 0.8710 - loss: 0.3316 - val_accuracy: 0.8432 - val_loss: 0.3907\n",
      "Epoch 55/1000\n",
      "\u001b[1m536/536\u001b[0m \u001b[32m━━━━━━━━━━━━━━━━━━━━\u001b[0m\u001b[37m\u001b[0m \u001b[1m0s\u001b[0m 690us/step - accuracy: 0.8677 - loss: 0.3323 - val_accuracy: 0.8546 - val_loss: 0.3786\n",
      "Epoch 56/1000\n",
      "\u001b[1m536/536\u001b[0m \u001b[32m━━━━━━━━━━━━━━━━━━━━\u001b[0m\u001b[37m\u001b[0m \u001b[1m0s\u001b[0m 678us/step - accuracy: 0.8656 - loss: 0.3495 - val_accuracy: 0.8512 - val_loss: 0.3835\n",
      "Epoch 56: early stopping\n"
     ]
    }
   ],
   "source": [
    "model_history = classifier.fit(X_train, y_train, validation_split = 0.33, batch_size = 10, epochs = 1000, callbacks = early_stopping)"
   ]
  },
  {
   "cell_type": "code",
   "execution_count": 21,
   "id": "53c2747f-4d91-4f92-84d6-a78ea42ecac3",
   "metadata": {},
   "outputs": [
    {
     "data": {
      "text/plain": [
       "dict_keys(['accuracy', 'loss', 'val_accuracy', 'val_loss'])"
      ]
     },
     "execution_count": 21,
     "metadata": {},
     "output_type": "execute_result"
    }
   ],
   "source": [
    "# Here we can see that because of Early Stopping it ran for only 56 epochs,,,and then it stopped\n",
    "# If we would have avoided it then we had to wait for 944 more epochs to get the same result\n",
    "# Our Efficiency Increased Rapidly\n",
    "\n",
    "model_history.history.keys()"
   ]
  },
  {
   "cell_type": "markdown",
   "id": "f3e53cea-e2df-46fe-a5a5-5ac980de67fc",
   "metadata": {},
   "source": [
    "## Summarize History for Accuracy"
   ]
  },
  {
   "cell_type": "code",
   "execution_count": 22,
   "id": "373e11e6-06be-4645-969b-25478de2d590",
   "metadata": {},
   "outputs": [
    {
     "data": {
      "image/png": "[encoded data removed]",
      "text/plain": [
       "<Figure size 640x480 with 1 Axes>"
      ]
     },
     "metadata": {},
     "output_type": "display_data"
    }
   ],
   "source": [
    "plt.plot(model_history.history['accuracy'])\n",
    "plt.plot(model_history.history['val_accuracy'])\n",
    "plt.title('Model_Accuracy')\n",
    "plt.ylabel('accuracy')\n",
    "plt.xlabel('epoch')\n",
    "plt.legend(['train', 'test'], loc = 'upper left')\n",
    "plt.show()"
   ]
  },
  {
   "cell_type": "code",
   "execution_count": 23,
   "id": "5445322a-ec1f-4683-ab21-6d0d2196c7f8",
   "metadata": {},
   "outputs": [
    {
     "data": {
      "image/png": "[encoded data removed]",
      "text/plain": [
       "<Figure size 640x480 with 1 Axes>"
      ]
     },
     "metadata": {},
     "output_type": "display_data"
    }
   ],
   "source": [
    "plt.plot(model_history.history['loss'])\n",
    "plt.plot(model_history.history['val_loss'])\n",
    "plt.title('Model_Loss')\n",
    "plt.ylabel('loss')\n",
    "plt.xlabel('epoch')\n",
    "plt.legend(['train', 'test'], loc = 'upper left')\n",
    "plt.show()"
   ]
  },
  {
   "cell_type": "markdown",
   "id": "8a872d8b-0395-4e6d-a9c1-e611339dd87c",
   "metadata": {},
   "source": [
    "# Part - 3 : Making the Predictions and Evaluate"
   ]
  },
  {
   "cell_type": "code",
   "execution_count": 24,
   "id": "96c86949-0329-4fd7-99dd-94e79f10c6dc",
   "metadata": {},
   "outputs": [
    {
     "name": "stdout",
     "output_type": "stream",
     "text": [
      "\u001b[1m63/63\u001b[0m \u001b[32m━━━━━━━━━━━━━━━━━━━━\u001b[0m\u001b[37m\u001b[0m \u001b[1m0s\u001b[0m 720us/step\n"
     ]
    }
   ],
   "source": [
    "y_pred = classifier.predict(X_test)\n",
    "y_pred = (y_pred >= 0.5)"
   ]
  },
  {
   "cell_type": "markdown",
   "id": "18f07508-ea05-4cde-943f-42748304ec50",
   "metadata": {},
   "source": [
    "## Make the Confusion Matrix"
   ]
  },
  {
   "cell_type": "code",
   "execution_count": 25,
   "id": "bb25d3f8-d31a-4025-84bd-122ad97469e1",
   "metadata": {},
   "outputs": [
    {
     "name": "stdout",
     "output_type": "stream",
     "text": [
      "[[1472  123]\n",
      " [ 172  233]]\n"
     ]
    }
   ],
   "source": [
    "from sklearn.metrics import confusion_matrix\n",
    "cm = confusion_matrix(y_test, y_pred)\n",
    "print(cm)"
   ]
  },
  {
   "cell_type": "markdown",
   "id": "41e575e8-29b9-44ff-b653-ea8992b9c7ec",
   "metadata": {},
   "source": [
    "## Calculate the Accuracy"
   ]
  },
  {
   "cell_type": "code",
   "execution_count": 26,
   "id": "a9b09dbb-7ee7-4426-a3d0-926d68e3e94d",
   "metadata": {},
   "outputs": [
    {
     "name": "stdout",
     "output_type": "stream",
     "text": [
      "0.8525\n"
     ]
    }
   ],
   "source": [
    "from sklearn.metrics import accuracy_score\n",
    "score = accuracy_score(y_pred, y_test)\n",
    "print(score)"
   ]
  },
  {
   "cell_type": "markdown",
   "id": "01b90975-c465-447c-916c-6b369540ecb2",
   "metadata": {},
   "source": [
    "## Get the Weights"
   ]
  },
  {
   "cell_type": "code",
   "execution_count": 27,
   "id": "283e5ac2-0f7d-4e6f-a6b2-08f6eb6d4d2e",
   "metadata": {},
   "outputs": [
    {
     "data": {
      "text/plain": [
       "[array([[ 0.01622023, -0.44348207,  0.23021303,  0.32123566,  0.0766847 ,\n",
       "          0.01829479, -0.0573286 ,  0.07503598, -0.04411404,  0.00683092,\n",
       "         -0.4573099 ],\n",
       "        [ 0.3444551 , -0.20924185,  0.14277747,  0.02521062, -0.09743566,\n",
       "         -0.7125758 ,  0.1691986 , -0.830601  , -0.01760437,  0.01864939,\n",
       "          0.23503257],\n",
       "        [ 0.09491593,  0.16428033,  0.17010689, -0.0904194 , -0.00985109,\n",
       "         -0.03425187,  0.18572983,  0.03423402,  0.103691  , -0.24000813,\n",
       "          0.1776968 ],\n",
       "        [-0.00993503,  0.11133846, -0.17492369, -0.44396782, -0.86517346,\n",
       "          0.07601369,  0.20653361, -0.03382584, -0.41677725,  0.277908  ,\n",
       "         -0.07663986],\n",
       "        [ 0.03120898,  0.32746574, -0.14119965,  0.48733938,  0.04929563,\n",
       "         -0.008603  ,  1.214267  ,  0.18154043, -1.3356245 ,  1.0774282 ,\n",
       "          0.10131153],\n",
       "        [ 0.32317287, -0.11560518, -0.07605238, -0.07959034,  0.06584001,\n",
       "          0.03845469, -0.13066252, -0.05205361,  0.02842903,  0.09290043,\n",
       "         -0.32308447],\n",
       "        [ 0.8200095 , -0.11791829,  0.5667412 ,  0.25012305,  0.03886358,\n",
       "         -0.06281547, -0.07715245, -0.5474378 , -0.10323074, -0.17450993,\n",
       "          0.29624277],\n",
       "        [-0.01826264, -0.24288851, -0.07992269,  0.37685972, -0.03502708,\n",
       "          0.12236052,  0.04278032, -0.07822222,  0.08158038, -0.08223387,\n",
       "         -0.13905896],\n",
       "        [-0.10502829, -0.06372453, -0.631143  ,  0.26842475,  0.6311962 ,\n",
       "          0.03392256, -0.1545319 , -0.6187514 ,  0.08869491, -0.20549367,\n",
       "          0.17299423],\n",
       "        [ 0.39387015,  0.06376744, -0.11508924,  0.29317236,  0.02944647,\n",
       "         -0.01995598,  0.06577143, -0.15025261,  0.09202877,  0.22831506,\n",
       "         -0.03124557],\n",
       "        [ 0.18054508,  0.09504606,  0.1837467 ,  0.19607796,  0.00166515,\n",
       "          0.09288181,  0.03385008,  0.27420923,  0.20988928,  0.3598534 ,\n",
       "          0.23262829]], dtype=float32),\n",
       " array([ 0.2347919 ,  0.34716028,  0.25085515,  0.0158421 , -0.48948067,\n",
       "         0.95112276, -0.91601396,  0.74842805,  0.24939442, -0.63409483,\n",
       "        -0.07564931], dtype=float32),\n",
       " array([[-4.3951899e-01,  2.9539213e-01,  2.7432475e-02,  2.9887238e-01,\n",
       "          3.4596640e-01,  3.4409910e-01,  3.4789062e-01],\n",
       "        [ 1.1970980e-01, -6.8860568e-02,  3.4914395e-01, -2.6001674e-01,\n",
       "          4.5270962e-01,  1.8601000e-01,  2.0222656e-01],\n",
       "        [-4.7342755e-02,  2.4109250e-01,  6.8958938e-02,  2.3941150e-01,\n",
       "          3.3661041e-01,  3.9801332e-01,  4.6153376e-01],\n",
       "        [ 3.5344154e-01,  3.4355703e-01,  5.7248050e-01, -3.9543636e-02,\n",
       "         -1.3429445e-01,  1.1519823e-01,  4.3220639e-01],\n",
       "        [-1.0975486e+00,  3.2308650e-01,  1.1391116e-01,  4.9903885e-01,\n",
       "          7.3954481e-01,  6.6737640e-01, -5.8968931e-01],\n",
       "        [-4.0959552e-01,  3.3063471e-01, -4.5709682e-01,  7.3375338e-01,\n",
       "          7.6649654e-01,  6.1113298e-01,  4.1601321e-01],\n",
       "        [ 2.8085962e-01, -4.4168240e-01, -5.1397210e-01, -2.4801619e-01,\n",
       "         -9.4130468e-01, -8.6255646e-01, -9.9497378e-01],\n",
       "        [-6.1552018e-01,  6.2994397e-01,  3.3988866e-01, -4.6768343e-01,\n",
       "          7.2391644e-02,  3.4564957e-01,  7.1548158e-01],\n",
       "        [ 5.5171710e-01, -4.5781636e-01, -4.2656845e-01, -5.5521637e-01,\n",
       "         -4.0399992e-01, -4.8569828e-01, -6.1344224e-01],\n",
       "        [ 7.1498799e-01, -6.7605859e-01, -2.1111858e-01, -5.6351101e-01,\n",
       "         -6.9947215e-05, -2.8582683e-01, -4.6406955e-01],\n",
       "        [-1.8532695e-02,  3.7954211e-01,  4.8694197e-02,  4.6603408e-01,\n",
       "         -3.9397482e-02,  2.7212346e-01,  3.5745478e-01]], dtype=float32),\n",
       " array([-0.07444678,  0.2133165 , -0.03511342,  0.02409269,  0.2870701 ,\n",
       "         0.32365084,  0.40056914], dtype=float32),\n",
       " array([[-0.18995209, -0.5679356 , -0.2587065 , -0.4326756 , -0.20323251,\n",
       "         -1.4445076 ],\n",
       "        [ 0.77358586,  0.35830113, -0.3534676 ,  0.02677734, -0.26844433,\n",
       "         -0.09833249],\n",
       "        [ 0.59738696,  0.51153207,  1.0844351 ,  0.072597  , -0.2309683 ,\n",
       "          0.01153165],\n",
       "        [ 0.36440957,  0.3514909 , -0.69673413, -0.3938246 ,  0.42322147,\n",
       "          0.30572674],\n",
       "        [ 0.38862088, -0.7246751 , -0.38733393, -0.6807292 , -0.3526936 ,\n",
       "          0.74361044],\n",
       "        [-0.42338926, -0.20731343,  0.7952263 , -0.16769743,  0.4033359 ,\n",
       "          0.12182303],\n",
       "        [-1.1444224 ,  0.40341318, -0.5063425 , -0.6042085 , -0.4142789 ,\n",
       "          0.8085302 ]], dtype=float32),\n",
       " array([ 0.08049366,  0.05606515, -0.01856319, -0.23789795, -0.00697765,\n",
       "         0.7554035 ], dtype=float32),\n",
       " array([[-0.9236765 ],\n",
       "        [-0.82755184],\n",
       "        [-0.95701903],\n",
       "        [ 0.11579876],\n",
       "        [-1.4048172 ],\n",
       "        [-0.7824155 ]], dtype=float32),\n",
       " array([1.4752451], dtype=float32)]"
      ]
     },
     "execution_count": 27,
     "metadata": {},
     "output_type": "execute_result"
    }
   ],
   "source": [
    "classifier.get_weights()"
   ]
  },
  {
   "cell_type": "code",
   "execution_count": null,
   "id": "21516a47-0027-492f-bc20-84da249caa1c",
   "metadata": {},
   "outputs": [],
   "source": []
  },
  {
   "cell_type": "code",
   "execution_count": null,
   "id": "a783c156-5108-4130-9a09-521eab22a89d",
   "metadata": {},
   "outputs": [],
   "source": []
  }
 ],
 "metadata": {
  "kernelspec": {
   "display_name": "Python 3 (ipykernel)",
   "language": "python",
   "name": "python3"
  },
  "language_info": {
   "codemirror_mode": {
    "name": "ipython",
    "version": 3
   },
   "file_extension": ".py",
   "mimetype": "text/x-python",
   "name": "python",
   "nbconvert_exporter": "python",
   "pygments_lexer": "ipython3",
   "version": "3.11.5"
  }
 },
 "nbformat": 4,
 "nbformat_minor": 5
}
